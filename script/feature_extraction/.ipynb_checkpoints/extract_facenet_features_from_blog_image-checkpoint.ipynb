{
 "cells": [
  {
   "cell_type": "code",
   "execution_count": 9,
   "metadata": {},
   "outputs": [
    {
     "name": "stdout",
     "output_type": "stream",
     "text": [
      "20180402-114759  20180408-102900\n"
     ]
    }
   ],
   "source": [
    "!ls /keyakizaka_mining/model/facenet"
   ]
  },
  {
   "cell_type": "code",
   "execution_count": 10,
   "metadata": {},
   "outputs": [],
   "source": [
    "# path\n",
    "\n",
    "save_dir = '/keyakizaka_mining/data/images'\n",
    "save_feature_dir = '/keyakizaka_mining/data/feature/image'\n",
    "FACE_MEDEL_PATH = '/keyakizaka_mining/model/facenet/20180408-102900/20180408-102900.pb'"
   ]
  },
  {
   "cell_type": "code",
   "execution_count": 3,
   "metadata": {},
   "outputs": [],
   "source": [
    "import os, sys\n",
    "import pandas as pd\n",
    "from PIL import Image\n",
    "import matplotlib.pyplot as plt\n",
    "%matplotlib inline\n",
    "\n",
    "import cloudpickle\n",
    "def save_as_pkl( obj, fpath ):\n",
    "    fwb = open( fpath, 'wb')\n",
    "    tmp = fwb.write(cloudpickle.dumps(obj))\n",
    "    return"
   ]
  },
  {
   "cell_type": "code",
   "execution_count": 6,
   "metadata": {},
   "outputs": [],
   "source": [
    "# https://tech.unifa-e.com/entry/2018/09/20/183742\n",
    "# > git clone https://github.com/davidsandberg/facenet.git\n",
    "\n",
    "# add path for facenet model\n",
    "sys.path.append('/keyakizaka_mining/tools')\n",
    "from facenet.src import facenet\n",
    "\n",
    "class FaceEmbedding(object):\n",
    "\n",
    "    def __init__(self, model_path):\n",
    "        facenet.load_model(model_path)\n",
    "        \n",
    "        self.input_image_size = 160\n",
    "        self.sess = tf.Session()\n",
    "        self.images_placeholder = tf.get_default_graph().get_tensor_by_name(\"input:0\")\n",
    "        self.embeddings = tf.get_default_graph().get_tensor_by_name(\"embeddings:0\")\n",
    "        self.phase_train_placeholder = tf.get_default_graph().get_tensor_by_name(\"phase_train:0\")\n",
    "        self.embedding_size = self.embeddings.get_shape()[1]\n",
    "        \n",
    "    def __del__(self):\n",
    "        self.sess.close()\n",
    "        \n",
    "    def load_image(self, image_path, width, height, mode):\n",
    "        image = Image.open(image_path)\n",
    "        image = image.resize([width, height], Image.BILINEAR)\n",
    "        return np.array(image.convert(mode))\n",
    "        \n",
    "    def face_embeddings(self, image_path):\n",
    "        image = self.load_image(image_path, self.input_image_size, self.input_image_size, 'RGB')\n",
    "        prewhitened = facenet.prewhiten(image)\n",
    "        prewhitened = prewhitened.reshape(-1, prewhitened.shape[0], prewhitened.shape[1], prewhitened.shape[2])\n",
    "        feed_dict = { self.images_placeholder: prewhitened, self.phase_train_placeholder: False }\n",
    "        embeddings = self.sess.run(self.embeddings, feed_dict=feed_dict)\n",
    "        return embeddings"
   ]
  },
  {
   "cell_type": "code",
   "execution_count": 7,
   "metadata": {},
   "outputs": [
    {
     "name": "stdout",
     "output_type": "stream",
     "text": [
      "(16754, 6)\n"
     ]
    },
    {
     "data": {
      "text/html": [
       "<div>\n",
       "<style scoped>\n",
       "    .dataframe tbody tr th:only-of-type {\n",
       "        vertical-align: middle;\n",
       "    }\n",
       "\n",
       "    .dataframe tbody tr th {\n",
       "        vertical-align: top;\n",
       "    }\n",
       "\n",
       "    .dataframe thead th {\n",
       "        text-align: right;\n",
       "    }\n",
       "</style>\n",
       "<table border=\"1\" class=\"dataframe\">\n",
       "  <thead>\n",
       "    <tr style=\"text-align: right;\">\n",
       "      <th></th>\n",
       "      <th>author</th>\n",
       "      <th>datetime</th>\n",
       "      <th>title</th>\n",
       "      <th>text</th>\n",
       "      <th>images</th>\n",
       "      <th>url</th>\n",
       "    </tr>\n",
       "  </thead>\n",
       "  <tbody>\n",
       "    <tr>\n",
       "      <th>0</th>\n",
       "      <td>齋藤冬優花</td>\n",
       "      <td>2015/11/1400:02</td>\n",
       "      <td>＼はじめまして︎︎❤︎︎1/︎︎</td>\n",
       "      <td>\\n お見立て会前日にして始まりましたっ!欅坂46ブログ(*ﾟ▽ﾟ)ﾉ嬉しくて嬉しくて、、、...</td>\n",
       "      <td>http://cdn.keyakizaka46.com/files/14/diary/k46...</td>\n",
       "      <td>http://www.keyakizaka46.com/s/k46o/diary/detai...</td>\n",
       "    </tr>\n",
       "    <tr>\n",
       "      <th>1</th>\n",
       "      <td>菅井友香</td>\n",
       "      <td>2015/11/1323:54</td>\n",
       "      <td>菅井友香です(^ ^)</td>\n",
       "      <td>\\n初めまして(^ ^)!この度欅坂46として活動させて頂けることになりました、東京都出身1...</td>\n",
       "      <td>http://cdn.keyakizaka46.com/files/14/diary/k46...</td>\n",
       "      <td>http://www.keyakizaka46.com/s/k46o/diary/detai...</td>\n",
       "    </tr>\n",
       "    <tr>\n",
       "      <th>2</th>\n",
       "      <td>尾関梨香</td>\n",
       "      <td>2015/11/1323:52</td>\n",
       "      <td>じゃじゃじゃーーん①</td>\n",
       "      <td>\\nはじめまして(^ν^)神奈川県出身高校3年生18歳の尾関梨香です。いよいよ本日からブログ...</td>\n",
       "      <td>http://cdn.keyakizaka46.com/files/14/diary/k46...</td>\n",
       "      <td>http://www.keyakizaka46.com/s/k46o/diary/detai...</td>\n",
       "    </tr>\n",
       "    <tr>\n",
       "      <th>3</th>\n",
       "      <td>小林由依</td>\n",
       "      <td>2015/11/1323:51</td>\n",
       "      <td>はじまりました☆彡</td>\n",
       "      <td>\\n「皆」という漢字の下の部分が 日 ではなく、白ということを最近知りました。小林由依です♪...</td>\n",
       "      <td>NaN</td>\n",
       "      <td>http://www.keyakizaka46.com/s/k46o/diary/detai...</td>\n",
       "    </tr>\n",
       "    <tr>\n",
       "      <th>4</th>\n",
       "      <td>小池美波</td>\n",
       "      <td>2015/11/1323:49</td>\n",
       "      <td>みなさん初めまして、小池美波です♪</td>\n",
       "      <td>\\nみなさん初めまして!高校二年生、兵庫県出身の小池美波です!ついに明日は欅坂46の初イベン...</td>\n",
       "      <td>http://cdn.keyakizaka46.com/files/14/diary/k46...</td>\n",
       "      <td>http://www.keyakizaka46.com/s/k46o/diary/detai...</td>\n",
       "    </tr>\n",
       "  </tbody>\n",
       "</table>\n",
       "</div>"
      ],
      "text/plain": [
       "  author         datetime              title  \\\n",
       "0  齋藤冬優花  2015/11/1400:02   ＼はじめまして︎︎❤︎︎1/︎︎   \n",
       "1   菅井友香  2015/11/1323:54        菅井友香です(^ ^)   \n",
       "2   尾関梨香  2015/11/1323:52         じゃじゃじゃーーん①   \n",
       "3   小林由依  2015/11/1323:51          はじまりました☆彡   \n",
       "4   小池美波  2015/11/1323:49  みなさん初めまして、小池美波です♪   \n",
       "\n",
       "                                                text  \\\n",
       "0  \\n お見立て会前日にして始まりましたっ!欅坂46ブログ(*ﾟ▽ﾟ)ﾉ嬉しくて嬉しくて、、、...   \n",
       "1  \\n初めまして(^ ^)!この度欅坂46として活動させて頂けることになりました、東京都出身1...   \n",
       "2  \\nはじめまして(^ν^)神奈川県出身高校3年生18歳の尾関梨香です。いよいよ本日からブログ...   \n",
       "3  \\n「皆」という漢字の下の部分が 日 ではなく、白ということを最近知りました。小林由依です♪...   \n",
       "4  \\nみなさん初めまして!高校二年生、兵庫県出身の小池美波です!ついに明日は欅坂46の初イベン...   \n",
       "\n",
       "                                              images  \\\n",
       "0  http://cdn.keyakizaka46.com/files/14/diary/k46...   \n",
       "1  http://cdn.keyakizaka46.com/files/14/diary/k46...   \n",
       "2  http://cdn.keyakizaka46.com/files/14/diary/k46...   \n",
       "3                                                NaN   \n",
       "4  http://cdn.keyakizaka46.com/files/14/diary/k46...   \n",
       "\n",
       "                                                 url  \n",
       "0  http://www.keyakizaka46.com/s/k46o/diary/detai...  \n",
       "1  http://www.keyakizaka46.com/s/k46o/diary/detai...  \n",
       "2  http://www.keyakizaka46.com/s/k46o/diary/detai...  \n",
       "3  http://www.keyakizaka46.com/s/k46o/diary/detai...  \n",
       "4  http://www.keyakizaka46.com/s/k46o/diary/detai...  "
      ]
     },
     "metadata": {},
     "output_type": "display_data"
    }
   ],
   "source": [
    "# read csv\n",
    "\n",
    "df = pd.read_csv( '/keyakizaka_mining/data/blog/keyakizaka46_blog_20190217.csv' )\n",
    "print(df.shape); display( df.head() )"
   ]
  },
  {
   "cell_type": "code",
   "execution_count": 6,
   "metadata": {},
   "outputs": [
    {
     "name": "stdout",
     "output_type": "stream",
     "text": [
      "Model filename: ../model/20180402-114759/20180402-114759.pb\n"
     ]
    }
   ],
   "source": [
    "# save facenet features\n",
    "\n",
    "# load model\n",
    "\n",
    "face_embedding = FaceEmbedding(FACE_MEDEL_PATH)\n",
    "\n",
    "dirs = os.listdir( save_dir )\n",
    "for author in dirs:\n",
    "    if os.path.exists( '%s/facenet/X_facenet_%s.pkl' % (save_feature_dir, author) ): continue\n",
    "    print( author, \"Extract features...\" )\n",
    "    X = []\n",
    "    y = []\n",
    "    image_list  = []\n",
    "    images = os.listdir( '%s/%s'% (save_dir,author) )\n",
    "    for idx, imname in enumerate( images ):\n",
    "        if idx % 100 == 0: print( idx )\n",
    "        img_path = '%s/%s/%s'% (save_dir,author,imname)\n",
    "        feature = face_embedding.face_embeddings( img_path )[0]\n",
    "        X.append( feature.flatten() )\n",
    "        y.append( author )\n",
    "        image_list.append( img_path )\n",
    "    \n",
    "    # save feature\n",
    "    X = np.array(X)\n",
    "    save_as_pkl( X, '%s/facenet/X_facenet_%s.pkl' % (save_feature_dir, author) )\n",
    "    save_as_pkl( y, '%s/facenet/y_facenet_%s.pkl' % (save_feature_dir, author) )\n",
    "    save_as_pkl( image_list, '%s/facenet/imagelist_facenet_%s.pkl' % (save_feature_dir, author) )"
   ]
  }
 ],
 "metadata": {
  "kernelspec": {
   "display_name": "Python 3",
   "language": "python",
   "name": "python3"
  },
  "language_info": {
   "codemirror_mode": {
    "name": "ipython",
    "version": 3
   },
   "file_extension": ".py",
   "mimetype": "text/x-python",
   "name": "python",
   "nbconvert_exporter": "python",
   "pygments_lexer": "ipython3",
   "version": "3.7.0"
  }
 },
 "nbformat": 4,
 "nbformat_minor": 2
}
